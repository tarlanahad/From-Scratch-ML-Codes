{
 "cells": [
  {
   "cell_type": "markdown",
   "metadata": {},
   "source": [
    "# K-means clustering algorithm "
   ]
  },
  {
   "cell_type": "markdown",
   "metadata": {},
   "source": [
    "\n",
    "```\n",
    "Copyright © 2020 Tarlan Ahadli\n",
    "\n",
    "Permission is hereby granted, free of charge, to any person obtaining a\n",
    "copy of this software and associated documentation files (the “Software”),\n",
    "to deal in the Software without restriction, including without limitation\n",
    "the rights to use, copy, modify, merge, publish, distribute, sublicense,\n",
    "and/or sell copies of the Software, and to permit persons to whom the Software\n",
    "is furnished to do so, subject to the following conditions:\n",
    "\n",
    "The above copyright notice and this permission notice shall be included\n",
    "in all copies or substantial portions of the Software.\n",
    "\n",
    "THE SOFTWARE IS PROVIDED “AS IS”, WITHOUT WARRANTY OF ANY\n",
    "KIND, EXPRESS OR IMPLIED, INCLUDING BUT NOT LIMITED TO THE\n",
    "WARRANTIES OF MERCHANTABILITY, FITNESS FOR A PARTICULAR PURPOSE\n",
    "AND NONINFRINGEMENT. IN NO EVENT SHALL THE AUTHORS OR COPYRIGHT\n",
    "HOLDERS BE LIABLE FOR ANY CLAIM, DAMAGES OR OTHER LIABILITY,\n",
    "WHETHER IN AN ACTION OF CONTRACT, TORT OR OTHERWISE, ARISING\n",
    "FROM, OUT OF OR IN CONNECTION WITH THE SOFTWARE OR THE USE OR\n",
    "OTHER DEALINGS IN THE SOFTWARE.\n",
    "```\n"
   ]
  },
  {
   "cell_type": "code",
   "execution_count": null,
   "metadata": {},
   "outputs": [],
   "source": [
    "import numpy as np # imports\n",
    "import matplotlib.pyplot as plt"
   ]
  },
  {
   "cell_type": "code",
   "execution_count": 2,
   "metadata": {},
   "outputs": [],
   "source": [
    "def get_distance(x1, x2): # find distance between two vectors using pythagorian theorem\n",
    "    sum = 0\n",
    "    for i in range(len(x1)):\n",
    "        sum += (x1[i] - x2[i]) ** 2\n",
    "    return np.sqrt(sum)\n",
    "\n",
    "def get_data():\n",
    "    \n",
    "    X = [] # create an artificial data-set\n",
    "\n",
    "    for i in range(20):\n",
    "        X.append(np.random.uniform(low=1, high=20, size=(2)))\n",
    "\n",
    "    for i in range(20):\n",
    "        X.append(np.random.uniform(low=50, high=150, size=(2)))\n",
    "    \n",
    "    for i in range(20):\n",
    "        X.append(np.random.uniform(low=200, high=300, size=(2)))\n",
    "\n",
    "    for i in range(20):\n",
    "        X.append(np.random.uniform(low=400, high=600, size=(2)))\n",
    "    \n",
    "    return np.array(X)"
   ]
  },
  {
   "cell_type": "code",
   "execution_count": 3,
   "metadata": {},
   "outputs": [],
   "source": [
    "X = get_data() # create an artificial data-set"
   ]
  },
  {
   "cell_type": "code",
   "execution_count": 4,
   "metadata": {},
   "outputs": [
    {
     "data": {
      "image/png": "[encoded data removed]",
      "text/plain": [
       "<Figure size 432x288 with 1 Axes>"
      ]
     },
     "metadata": {
      "needs_background": "light"
     },
     "output_type": "display_data"
    }
   ],
   "source": [
    "plt.scatter(X[:,0],X[:,1])\n",
    "plt.show()"
   ]
  },
  {
   "cell_type": "code",
   "execution_count": 15,
   "metadata": {},
   "outputs": [
    {
     "name": "stdout",
     "output_type": "stream",
     "text": [
      "K-MEANS:  189\n"
     ]
    },
    {
     "data": {
      "image/png": "[encoded data removed]",
      "text/plain": [
       "<Figure size 432x288 with 1 Axes>"
      ]
     },
     "metadata": {
      "needs_background": "light"
     },
     "output_type": "display_data"
    }
   ],
   "source": [
    "k = 4\n",
    "max_iters = 100\n",
    "\n",
    "#centroids = X[np.random.choice(range(len(X)), k, replace=False)] # randomly select k data point\n",
    "#centroids = [np.random.uniform(low = 0,high = 600, size=len(X[0])) for i in range(k)] # create k random points with X[0] length\n",
    "\n",
    "centroids = [[100,300],\n",
    "             [200,400],\n",
    "             [300,500],\n",
    "             [400,600]]\n",
    "\n",
    "temp = centroids.copy()\n",
    "\n",
    "converged = False # Flag to terminate process after convergence \n",
    "current_iter = 0 \n",
    "\n",
    "while (not converged) and (current_iter < max_iters):\n",
    "\n",
    "    cluster_list = [[] for i in range(len(centroids))] # cluster for each centeroid\n",
    "\n",
    "    for x in X:  # Go through each data point\n",
    "        distances_list = []\n",
    "        for c in centroids:\n",
    "            distances_list.append(get_distance(c, x)) # get distance to each centeroid\n",
    "        cluster_list[int(np.argmin(distances_list))].append(x) # add for minimum distance\n",
    "\n",
    "    cluster_list = list((filter(None, cluster_list))) # remove clusters which are empty\n",
    "\n",
    "    prev_centroids = centroids.copy() # save centroids to compare later\n",
    "\n",
    "    centroids = []\n",
    "\n",
    "    for j in range(len(cluster_list)):\n",
    "        centroids.append(np.mean(cluster_list[j], axis=0)) # calculate the new clusters\n",
    "\n",
    "    pattern = np.abs(np.sum(prev_centroids) - np.sum(centroids)) # get rate of convergence\n",
    "\n",
    "    print('K-MEANS: ', int(pattern))\n",
    "\n",
    "    converged = (pattern == 0) # check for convergence\n",
    "\n",
    "    current_iter += 1\n",
    "    colors = [u'#1f77b4', u'#ff7f0e', u'#2ca02c', u'#d62728', u'#9467bd', u'#8c564b', u'#e377c2', u'#7f7f7f', u'#bcbd22', u'#17becf']\n",
    "    temp = np.array(temp)\n",
    "    cluster_list = np.array(cluster_list)\n",
    "    for i in range(len(cluster_list)):\n",
    "        c = np.array(cluster_list[i])\n",
    "        plt.scatter(c[:,0],c[:,1],color = colors[i])\n",
    "        plt.scatter(temp[i,0],temp[i,1],color = colors[i])\n",
    "    \n",
    "    plt.xlabel('Width')\n",
    "    plt.ylabel('Height')\n",
    "    plt.show()\n",
    "    break"
   ]
  },
  {
   "cell_type": "code",
   "execution_count": null,
   "metadata": {},
   "outputs": [],
   "source": []
  },
  {
   "cell_type": "code",
   "execution_count": null,
   "metadata": {},
   "outputs": [],
   "source": []
  },
  {
   "cell_type": "code",
   "execution_count": null,
   "metadata": {},
   "outputs": [],
   "source": []
  },
  {
   "cell_type": "code",
   "execution_count": null,
   "metadata": {},
   "outputs": [],
   "source": []
  },
  {
   "cell_type": "code",
   "execution_count": null,
   "metadata": {},
   "outputs": [],
   "source": []
  },
  {
   "cell_type": "code",
   "execution_count": null,
   "metadata": {},
   "outputs": [],
   "source": []
  },
  {
   "cell_type": "code",
   "execution_count": 55,
   "metadata": {},
   "outputs": [
    {
     "data": {
      "image/png": "[encoded data removed]",
      "text/plain": [
       "<Figure size 432x288 with 1 Axes>"
      ]
     },
     "metadata": {
      "needs_background": "light"
     },
     "output_type": "display_data"
    }
   ],
   "source": [
    "cluster_list = np.array(cluster_list)\n",
    "for i in range(len(cluster_list)):\n",
    "    c = np.array(cluster_list[i])\n",
    "    plt.scatter(c[:,0],c[:,1])\n",
    "plt.show()"
   ]
  },
  {
   "cell_type": "code",
   "execution_count": null,
   "metadata": {},
   "outputs": [],
   "source": []
  }
 ],
 "metadata": {
  "kernelspec": {
   "display_name": "Python 3",
   "language": "python",
   "name": "python3"
  },
  "language_info": {
   "codemirror_mode": {
    "name": "ipython",
    "version": 3
   },
   "file_extension": ".py",
   "mimetype": "text/x-python",
   "name": "python",
   "nbconvert_exporter": "python",
   "pygments_lexer": "ipython3",
   "version": "3.5.2"
  }
 },
 "nbformat": 4,
 "nbformat_minor": 2
}
